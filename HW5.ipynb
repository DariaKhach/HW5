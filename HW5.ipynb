{
 "cells": [
  {
   "cell_type": "code",
   "execution_count": 57,
   "metadata": {},
   "outputs": [
    {
     "name": "stdout",
     "output_type": "stream",
     "text": [
      "{'1840e0b9d4': 'Продукты', '4e4f90fcfb': 'Электроника', 'afea8d72fc': 'Электроника', '373a6055fe': 'Бытовая техника', '9b2ab046f3': 'Электроника', '9f39d307c3': 'Электроника', '44edeffc91': 'Продукты', '704474fa2d': 'Продукты', '1de31be403': 'Бытовая техника', 'b71f36a5e4': 'Продукты'}\n"
     ]
    }
   ],
   "source": [
    "purchases = {}\n",
    "f = open('purchase_log.txt', 'r', encoding = 'utf-8')\n",
    "f.readline()\n",
    "content = f.readlines()\n",
    "for line in content:\n",
    "    dicti_ = json.loads(line)\n",
    "    key = dicti_['user_id']\n",
    "    value = dicti_['category']\n",
    "    purchases[key] = value\n",
    "    \n",
    "f.close()"
   ]
  },
  {
   "cell_type": "code",
   "execution_count": 76,
   "metadata": {},
   "outputs": [
    {
     "name": "stdout",
     "output_type": "stream",
     "text": [
      "c23704ea54\n"
     ]
    }
   ],
   "source": [
    "with open('visit_log.csv', 'r', encoding = 'utf-8') as fb:\n",
    "    with open('funnel.csv', 'w') as f_write:\n",
    "        for line in fb:\n",
    "            line = line.strip().split(',')\n",
    "            if line[0] in purchases.keys():\n",
    "                f_write.write(line[0] + ', ' + line[1] + ', ' + purchases[line[0]] + '\\n')\n",
    "                \n",
    "print(line[0])"
   ]
  }
 ],
 "metadata": {
  "kernelspec": {
   "display_name": "Python 3",
   "language": "python",
   "name": "python3"
  },
  "language_info": {
   "codemirror_mode": {
    "name": "ipython",
    "version": 3
   },
   "file_extension": ".py",
   "mimetype": "text/x-python",
   "name": "python",
   "nbconvert_exporter": "python",
   "pygments_lexer": "ipython3",
   "version": "3.8.5"
  }
 },
 "nbformat": 4,
 "nbformat_minor": 4
}
